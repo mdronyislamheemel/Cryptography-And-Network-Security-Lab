{
 "cells": [
  {
   "cell_type": "markdown",
   "metadata": {},
   "source": [
    "# Polygram Substitution Cipher"
   ]
  },
  {
   "cell_type": "markdown",
   "metadata": {},
   "source": [
    "- **Find out the Polygram Substitution Cipher of a given plaintext with block size of 3. Then perform the reverse operation to get original plaintext.**"
   ]
  },
  {
   "cell_type": "markdown",
   "metadata": {},
   "source": [
    "## Reading Substitution Rules from the file \"Polygram Blocks\""
   ]
  },
  {
   "cell_type": "code",
   "execution_count": 8,
   "metadata": {},
   "outputs": [],
   "source": [
    "encryption_rules, decryption_rules = {}, {}\n",
    "\n",
    "with open(\"Polygram Blocks.txt\", \"r\") as file:\n",
    "    content = file.read()\n",
    "    words = content.split()\n",
    "\n",
    "for i in range(0, len(words), 2):\n",
    "    word1, word2 = words[i], words[i + 1]\n",
    "    encryption_rules[word1] = word2\n",
    "    decryption_rules[word2] = word1"
   ]
  },
  {
   "cell_type": "markdown",
   "metadata": {},
   "source": [
    "## Function for Encryption"
   ]
  },
  {
   "cell_type": "code",
   "execution_count": 9,
   "metadata": {},
   "outputs": [],
   "source": [
    "def encrypt(plain_text):\n",
    "    cipher_text = \"\"\n",
    "    block = \"\"\n",
    "\n",
    "    for i in range(len(plain_text)):\n",
    "        if i and i % 3 == 0:\n",
    "            cipher_text += encryption_rules[block]\n",
    "            block = \"\"     \n",
    "        block += plain_text[i]\n",
    "    \n",
    "    cipher_text += encryption_rules[block]\n",
    "    return cipher_text"
   ]
  },
  {
   "cell_type": "markdown",
   "metadata": {},
   "source": [
    "## Function for Decryption"
   ]
  },
  {
   "cell_type": "code",
   "execution_count": 10,
   "metadata": {},
   "outputs": [],
   "source": [
    "def decrypt(cipher_text):\n",
    "    plain_text = \"\"\n",
    "    block = \"\"\n",
    "\n",
    "    for i in range(len(cipher_text)):\n",
    "        if i and i % 3 == 0:\n",
    "            plain_text += decryption_rules[block]\n",
    "            block = \"\"     \n",
    "        block += cipher_text[i]\n",
    "    \n",
    "    plain_text += decryption_rules[block]\n",
    "    return plain_text"
   ]
  },
  {
   "cell_type": "markdown",
   "metadata": {},
   "source": [
    "## Performing Encryption & Decryption using Polygram Substitution Cipher"
   ]
  },
  {
   "cell_type": "code",
   "execution_count": 13,
   "metadata": {},
   "outputs": [
    {
     "name": "stdout",
     "output_type": "stream",
     "text": [
      "Plain Text: xyzabcpq\n",
      "Encrypted Text: mewxnqvo\n",
      "Decrypted Text: xyzabcpq\n"
     ]
    }
   ],
   "source": [
    "plain_text = input(\"Enter the text to encrypt: \")\n",
    "cipher_text = encrypt(plain_text)\n",
    "decrypted_text = decrypt(cipher_text)\n",
    "\n",
    "print(f\"Plain Text: {plain_text}\")\n",
    "print(f\"Encrypted Text: {cipher_text}\")\n",
    "print(f\"Decrypted Text: {decrypted_text}\")"
   ]
  }
 ],
 "metadata": {
  "kernelspec": {
   "display_name": "Python 3",
   "language": "python",
   "name": "python3"
  },
  "language_info": {
   "codemirror_mode": {
    "name": "ipython",
    "version": 3
   },
   "file_extension": ".py",
   "mimetype": "text/x-python",
   "name": "python",
   "nbconvert_exporter": "python",
   "pygments_lexer": "ipython3",
   "version": "3.9.13"
  }
 },
 "nbformat": 4,
 "nbformat_minor": 2
}
