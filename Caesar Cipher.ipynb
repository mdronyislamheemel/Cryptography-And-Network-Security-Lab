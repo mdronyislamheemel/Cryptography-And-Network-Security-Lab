{
 "cells": [
  {
   "cell_type": "markdown",
   "metadata": {},
   "source": [
    "# Caesar Cipher "
   ]
  },
  {
   "cell_type": "markdown",
   "metadata": {},
   "source": [
    "- **Suppose you are given a line of text as a plaintext, find out the corresponding Caesar Cipher. Then perform the reverse operation to get original plaintext.**"
   ]
  },
  {
   "cell_type": "markdown",
   "metadata": {},
   "source": [
    "## Function for Encryption"
   ]
  },
  {
   "cell_type": "code",
   "execution_count": 1,
   "metadata": {},
   "outputs": [],
   "source": [
    "def encrypt(plain_text):\n",
    "    cipher_text = \"\"\n",
    "\n",
    "    for ch in plain_text:\n",
    "        if ch.isalpha():\n",
    "            ch = chr(ord(ch) + 3)\n",
    "            if ch.isalpha() != True:\n",
    "                ch = chr(ord(ch) - 26)\n",
    "        cipher_text += ch\n",
    "    \n",
    "    return cipher_text"
   ]
  },
  {
   "cell_type": "markdown",
   "metadata": {},
   "source": [
    "## Function for Decryption"
   ]
  },
  {
   "cell_type": "code",
   "execution_count": 2,
   "metadata": {},
   "outputs": [],
   "source": [
    "def decrypt(cipher_text):\n",
    "    plain_text = \"\"\n",
    "\n",
    "    for ch in cipher_text:\n",
    "        if ch.isalpha():\n",
    "            ch = chr(ord(ch) - 3)\n",
    "            if ch.isalpha() != True:\n",
    "                ch = chr(ord(ch) + 26)\n",
    "        plain_text += ch\n",
    "    \n",
    "    return plain_text"
   ]
  },
  {
   "cell_type": "markdown",
   "metadata": {},
   "source": [
    "## Performing Encryption & Decryption using Caesar Cipher"
   ]
  },
  {
   "cell_type": "code",
   "execution_count": 3,
   "metadata": {},
   "outputs": [
    {
     "name": "stdout",
     "output_type": "stream",
     "text": [
      "Plain Text: RuCse27 x @101\n",
      "Encrypted Text: UxFvh27 a @101\n",
      "Decrypted Text: RuCse27 x @101\n"
     ]
    }
   ],
   "source": [
    "plain_text = \"RuCse27 x @101\"\n",
    "cipher_text = encrypt(plain_text)\n",
    "decrypted_text = decrypt(cipher_text)\n",
    "\n",
    "print(f\"Plain Text: {plain_text}\")\n",
    "print(f\"Encrypted Text: {cipher_text}\")\n",
    "print(f\"Decrypted Text: {decrypted_text}\")"
   ]
  }
 ],
 "metadata": {
  "kernelspec": {
   "display_name": "Python 3",
   "language": "python",
   "name": "python3"
  },
  "language_info": {
   "codemirror_mode": {
    "name": "ipython",
    "version": 3
   },
   "file_extension": ".py",
   "mimetype": "text/x-python",
   "name": "python",
   "nbconvert_exporter": "python",
   "pygments_lexer": "ipython3",
   "version": "3.9.13"
  }
 },
 "nbformat": 4,
 "nbformat_minor": 2
}
