{
 "cells": [
  {
   "cell_type": "markdown",
   "metadata": {},
   "source": [
    "# One Time Pad"
   ]
  },
  {
   "cell_type": "markdown",
   "metadata": {},
   "source": [
    "- **You are supplied a file of large non-repeating set of truly random key letter. Your job is to encrypt the plaintext using One Time Pad technique. Then perform the reverse operation to get original plaintext.**"
   ]
  },
  {
   "cell_type": "markdown",
   "metadata": {},
   "source": [
    "## Reading the Key from the file \"One Time Pad Key.txt\""
   ]
  },
  {
   "cell_type": "code",
   "execution_count": 94,
   "metadata": {},
   "outputs": [],
   "source": [
    "key = \"\"\n",
    "\n",
    "with open(\"One Time Pad Key.txt\", \"r\") as file:\n",
    "    key = file.read()"
   ]
  },
  {
   "cell_type": "markdown",
   "metadata": {},
   "source": [
    "## Function for Encryption"
   ]
  },
  {
   "cell_type": "code",
   "execution_count": 95,
   "metadata": {},
   "outputs": [],
   "source": [
    "def encrypt(plain_text):\n",
    "    cipher_text = \"\"\n",
    "    idx = 0\n",
    "\n",
    "    for ch in plain_text:\n",
    "        x = (ord(ch) + ord(key[idx])) % 26\n",
    "        idx += 1\n",
    "        cipher_text += chr(ord('A') + x)\n",
    "    \n",
    "    return cipher_text"
   ]
  },
  {
   "cell_type": "markdown",
   "metadata": {},
   "source": [
    "## Function for Decryption"
   ]
  },
  {
   "cell_type": "code",
   "execution_count": 96,
   "metadata": {},
   "outputs": [],
   "source": [
    "def decrypt(cipher_text):\n",
    "    plain_text = \"\"\n",
    "    idx = 0\n",
    "    \n",
    "    for ch in cipher_text:\n",
    "        x = (ord(ch) - ord(key[idx])) % 26\n",
    "        idx += 1\n",
    "        plain_text += chr(ord('A') + x)\n",
    "    \n",
    "    return plain_text"
   ]
  },
  {
   "cell_type": "markdown",
   "metadata": {},
   "source": [
    "## Performing Encryption & Decryption using One Time Pad"
   ]
  },
  {
   "cell_type": "code",
   "execution_count": 97,
   "metadata": {},
   "outputs": [
    {
     "name": "stdout",
     "output_type": "stream",
     "text": [
      "Plain Text: ONETIMEPAD\n",
      "Encrypted Text: RSLDIVWSHI\n",
      "Decrypted Text: ONETIMEPAD\n"
     ]
    }
   ],
   "source": [
    "plain_text = input(\"Enter the text to encrypt: \")\n",
    "cipher_text = encrypt(plain_text)\n",
    "decrypted_text = decrypt(cipher_text)\n",
    "\n",
    "print(f\"Plain Text: {plain_text}\")\n",
    "print(f\"Encrypted Text: {cipher_text}\")\n",
    "print(f\"Decrypted Text: {decrypted_text}\")"
   ]
  }
 ],
 "metadata": {
  "kernelspec": {
   "display_name": "Python 3",
   "language": "python",
   "name": "python3"
  },
  "language_info": {
   "codemirror_mode": {
    "name": "ipython",
    "version": 3
   },
   "file_extension": ".py",
   "mimetype": "text/x-python",
   "name": "python",
   "nbconvert_exporter": "python",
   "pygments_lexer": "ipython3",
   "version": "3.9.13"
  }
 },
 "nbformat": 4,
 "nbformat_minor": 2
}
